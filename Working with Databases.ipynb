{
 "cells": [
  {
   "cell_type": "code",
   "execution_count": 27,
   "metadata": {},
   "outputs": [
    {
     "data": {
      "text/plain": [
       "[('Walter', 'Young', 320, 2005),\n",
       " ('Jumbo', 'Diaz', 315, 2014),\n",
       " ('Dmitri', 'Young', 295, 1996),\n",
       " ('Jonathan', 'Broxton', 295, 2005),\n",
       " ('Jumbo', 'Brown', 295, 1925)]"
      ]
     },
     "execution_count": 27,
     "metadata": {},
     "output_type": "execute_result"
    }
   ],
   "source": [
    "import mysql.connector\n",
    "\n",
    "connection = mysql.connector.connect(host='MySQLC11.newtekwebhosting.com',\n",
    "                              user='student',\n",
    "                              password='webuc8',\n",
    "                              database='baseball')\n",
    "\n",
    "query = '''SELECT nameFirst, nameLast, weight, year(debut)\n",
    "FROM Master\n",
    "ORDER BY weight DESC\n",
    "LIMIT 5'''\n",
    "\n",
    "cursor = connection.cursor() #pass dictionary=True to return records as dicts\n",
    "cursor.execute(query)\n",
    "results = cursor.fetchall()\n",
    "cursor.close()\n",
    "connection.close()\n",
    "\n",
    "results"
   ]
  },
  {
   "cell_type": "code",
   "execution_count": 28,
   "metadata": {},
   "outputs": [
    {
     "name": "stdout",
     "output_type": "stream",
     "text": [
      "Walter Young weighed 320 pounds when he started his MLB career in 2005.\n",
      "Jumbo Diaz weighed 315 pounds when he started his MLB career in 2014.\n",
      "Dmitri Young weighed 295 pounds when he started his MLB career in 1996.\n",
      "Jonathan Broxton weighed 295 pounds when he started his MLB career in 2005.\n",
      "Jumbo Brown weighed 295 pounds when he started his MLB career in 1925.\n"
     ]
    }
   ],
   "source": [
    "for record in results:\n",
    "    print('{} {} weighed {} pounds when he started his MLB career in {}.'.format(record[0],record[1],record[2],record[3]))"
   ]
  },
  {
   "cell_type": "code",
   "execution_count": 2,
   "metadata": {},
   "outputs": [
    {
     "data": {
      "text/plain": [
       "(('Walter', 'Young', 320, 2005),\n",
       " ('Jumbo', 'Diaz', 315, 2014),\n",
       " ('Dmitri', 'Young', 295, 1996),\n",
       " ('Jonathan', 'Broxton', 295, 2005),\n",
       " ('Jumbo', 'Brown', 295, 1925))"
      ]
     },
     "execution_count": 2,
     "metadata": {},
     "output_type": "execute_result"
    }
   ],
   "source": [
    "import pymysql\n",
    "connection = pymysql.connect(host='MySQLC11.newtekwebhosting.com',\n",
    "                             user='student',\n",
    "                             password='webuc8',\n",
    "                             database='baseball'\n",
    "                            )\n",
    "                        #cursorclass=pymysql.cursors.DictCursor\n",
    "query = '''SELECT nameFirst, nameLast, weight, year(debut)\n",
    "FROM Master\n",
    "ORDER BY weight DESC\n",
    "LIMIT 5'''\n",
    "    \n",
    "with connection.cursor() as cursor:\n",
    "    cursor.execute(query)\n",
    "    results = cursor.fetchall()\n",
    "connection.close()\n",
    "\n",
    "results"
   ]
  },
  {
   "cell_type": "code",
   "execution_count": 19,
   "metadata": {},
   "outputs": [
    {
     "data": {
      "text/plain": [
       "[('Walter', 'Young', 320, '1970'),\n",
       " ('CC', 'Sabathia', 300, '1970'),\n",
       " ('Jumbo', 'Brown', 295, '1970'),\n",
       " ('Dmitri', 'Young', 295, '1970'),\n",
       " ('Jon', 'Rauch', 290, '1970')]"
      ]
     },
     "execution_count": 19,
     "metadata": {},
     "output_type": "execute_result"
    }
   ],
   "source": [
    "import sqlite3\n",
    "connection = sqlite3.connect('ClassFiles/working-with-data/lahman2016.sqlite')\n",
    "\n",
    "query = '''SELECT nameFirst, nameLast, weight, strftime('%Y', debut / 1000, 'unixepoch')\n",
    "FROM master\n",
    "ORDER BY weight DESC\n",
    "LIMIT 5'''\n",
    "\n",
    "cursor = connection.cursor()\n",
    "cursor.execute(query)\n",
    "results = cursor.fetchall()\n",
    "cursor.close()\n",
    "connection.close()\n",
    "\n",
    "results"
   ]
  },
  {
   "cell_type": "code",
   "execution_count": 20,
   "metadata": {},
   "outputs": [
    {
     "data": {
      "text/plain": [
       "[(1914, 0),\n",
       " (1915, 4),\n",
       " (1916, 3),\n",
       " (1917, 2),\n",
       " (1918, 11),\n",
       " (1919, 29),\n",
       " (1920, 54),\n",
       " (1921, 59),\n",
       " (1922, 35),\n",
       " (1923, 41),\n",
       " (1924, 46),\n",
       " (1925, 25),\n",
       " (1926, 47),\n",
       " (1927, 60),\n",
       " (1928, 54),\n",
       " (1929, 46),\n",
       " (1930, 49),\n",
       " (1931, 46),\n",
       " (1932, 41),\n",
       " (1933, 34),\n",
       " (1934, 22),\n",
       " (1935, 6)]"
      ]
     },
     "execution_count": 20,
     "metadata": {},
     "output_type": "execute_result"
    }
   ],
   "source": [
    "import sqlite3\n",
    "connection = sqlite3.connect('ClassFiles/working-with-data/lahman2016.sqlite')\n",
    "\n",
    "query = '''SELECT yearID, HR\n",
    "FROM batting\n",
    "WHERE playerID IN (SELECT playerID\n",
    "                    FROM master\n",
    "                    WHERE nameFirst = ? AND nameLast = ?)\n",
    "ORDER BY yearID'''\n",
    "\n",
    "cursor = connection.cursor()\n",
    "player = ( 'Babe', 'Ruth' )\n",
    "cursor.execute(query, player)\n",
    "results = cursor.fetchall()\n",
    "cursor.close()\n",
    "connection.close()\n",
    "\n",
    "results"
   ]
  },
  {
   "cell_type": "code",
   "execution_count": 21,
   "metadata": {},
   "outputs": [
    {
     "data": {
      "text/plain": [
       "[('John', 'Lennon', 'The Smart One'),\n",
       " ('Paul', 'McCartney', 'The Cute One'),\n",
       " ('George', 'Harrison', 'The Funny One'),\n",
       " ('Ringo', 'Starr', 'The Quiet One')]"
      ]
     },
     "execution_count": 21,
     "metadata": {},
     "output_type": "execute_result"
    }
   ],
   "source": [
    "import sqlite3\n",
    "connection = sqlite3.connect(':memory:')\n",
    "cursor = connection.cursor()\n",
    "\n",
    "create = '''CREATE TABLE beatles (\n",
    "'fname' text,\n",
    "'lname' text,\n",
    "'nickname' text\n",
    ")'''\n",
    "\n",
    "cursor.execute(create)\n",
    "\n",
    "members = [\n",
    "    ('John', 'Lennon', 'The Smart One'),\n",
    "    ('Paul', 'McCartney', 'The Cute One'),\n",
    "    ('George', 'Harrison', 'The Funny One'),\n",
    "    ('Ringo', 'Starr', 'The Quiet One')\n",
    "]\n",
    "\n",
    "for member in members:\n",
    "    cursor.execute(\"INSERT INTO beatles VALUES\" + str(member))\n",
    "\n",
    "select = 'SELECT * FROM beatles'\n",
    "cursor.execute(select)\n",
    "\n",
    "results = cursor.fetchall()\n",
    "cursor.close()\n",
    "connection.close()\n",
    "\n",
    "results"
   ]
  },
  {
   "cell_type": "code",
   "execution_count": 22,
   "metadata": {},
   "outputs": [
    {
     "data": {
      "text/plain": [
       "[('John', 'Lennon', 'The Smart One'),\n",
       " ('Paul', 'McCartney', 'The Cute One'),\n",
       " ('George', 'Harrison', 'The Funny One'),\n",
       " ('Ringo', 'Starr', 'The Quiet One')]"
      ]
     },
     "execution_count": 22,
     "metadata": {},
     "output_type": "execute_result"
    }
   ],
   "source": [
    "import sqlite3\n",
    "connection = sqlite3.connect(':memory:')\n",
    "cursor = connection.cursor()\n",
    "\n",
    "create = '''CREATE TABLE beatles (\n",
    "'fname' text,\n",
    "'lname' text,\n",
    "'nickname' text\n",
    ")'''\n",
    "cursor.execute(create)\n",
    "\n",
    "members = [\n",
    "    ('John', 'Lennon', 'The Smart One'),\n",
    "    ('Paul', 'McCartney', 'The Cute One'),\n",
    "    ('George', 'Harrison', 'The Funny One'),\n",
    "    ('Ringo', 'Starr', 'The Quiet One')\n",
    "]\n",
    "\n",
    "insert = 'INSERT INTO beatles VALUES (?,?,?)'\n",
    "\n",
    "cursor.executemany(insert, members)\n",
    "\n",
    "select = 'SELECT * FROM beatles'\n",
    "cursor.execute(select)\n",
    "\n",
    "results = cursor.fetchall()\n",
    "cursor.close()\n",
    "connection.close()\n",
    "\n",
    "results"
   ]
  },
  {
   "cell_type": "code",
   "execution_count": 35,
   "metadata": {},
   "outputs": [
    {
     "data": {
      "text/plain": [
       "(10353, 1.004910053492218)"
      ]
     },
     "execution_count": 35,
     "metadata": {},
     "output_type": "execute_result"
    }
   ],
   "source": [
    "import csv\n",
    "\n",
    "def compare_pops(pops, age_sex_year1, age_sex_year2):\n",
    "    '''Finds the populations (pop1 and pop2) for the two \n",
    "    passed-in age, sex, and year tuples.\n",
    "    \n",
    "    Returns a two-item tuple containing:\n",
    "     - the numeric difference in population (pop2 - pop1)\n",
    "     - the ratio (pop2 / pop1)\n",
    "\n",
    "    Keyword arguments:\n",
    "    pops -- a sequence holding dictionaries\n",
    "    age_sex_year1 -- a tuple holding age, sex, and year values\n",
    "    age_sex_year2 -- a tuple holding age, sex, and year values'''\n",
    "    pop1, pop2 = -1, -1\n",
    "    for row in pops:\n",
    "        if (row['AGE'] == str(age_sex_year1[0]) and row['SEX'] == age_sex_year1[1]):\n",
    "            pop1 = row['POPESTIMATE' + str(age_sex_year1[2])]\n",
    "            pop1 = int(pop1.replace(',',''))\n",
    "        if (row['AGE'] == str(age_sex_year2[0]) and row['SEX'] == age_sex_year2[1]):\n",
    "            pop2 = row['POPESTIMATE' + str(age_sex_year2[2])]\n",
    "            pop2 = int(pop2.replace(',',''))\n",
    "        if pop1 > 0 and pop2 > 0:\n",
    "            return (pop2 - pop1, pop2/pop1)\n",
    "\n",
    "with open('ClassFiles/working-with-data/csvs/us-population-2010-2014.csv') as csvfile:\n",
    "    pops = list(csv.DictReader(csvfile))\n",
    "\n",
    "pop1 = (30, 'F', 2011)\n",
    "pop2 = (30, 'M', 2011)\n",
    "\n",
    "compare_pops(pops, pop1, pop2)"
   ]
  }
 ],
 "metadata": {
  "kernelspec": {
   "display_name": "Python 3",
   "language": "python",
   "name": "python3"
  },
  "language_info": {
   "codemirror_mode": {
    "name": "ipython",
    "version": 3
   },
   "file_extension": ".py",
   "mimetype": "text/x-python",
   "name": "python",
   "nbconvert_exporter": "python",
   "pygments_lexer": "ipython3",
   "version": "3.6.5"
  }
 },
 "nbformat": 4,
 "nbformat_minor": 4
}

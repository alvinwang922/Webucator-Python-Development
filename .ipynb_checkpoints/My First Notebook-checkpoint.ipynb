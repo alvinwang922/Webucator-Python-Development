{
 "cells": [
  {
   "cell_type": "code",
   "execution_count": 26,
   "metadata": {},
   "outputs": [
    {
     "name": "stdout",
     "output_type": "stream",
     "text": [
      "Hello, world!\n"
     ]
    }
   ],
   "source": [
    "print(\"Hello, world!\")"
   ]
  },
  {
   "cell_type": "code",
   "execution_count": 29,
   "metadata": {},
   "outputs": [
    {
     "data": {
      "text/plain": [
       "[('PEOPLE', 13),\n",
       " ('STATES', 7),\n",
       " ('SHOULD', 5),\n",
       " ('INDEPENDENT', 5),\n",
       " ('AGAINST', 5),\n",
       " ('GOVERNMENT,', 4),\n",
       " ('ASSENT', 4),\n",
       " ('OTHERS', 4),\n",
       " ('POLITICAL', 3),\n",
       " ('POWERS', 3)]"
      ]
     },
     "execution_count": 29,
     "metadata": {},
     "output_type": "execute_result"
    }
   ],
   "source": [
    "from collections import Counter\n",
    "\n",
    "with open(\"ClassFiles/advanced-python-concepts/Exercises/Declaration_of_Independence.txt\") as f:\n",
    "    doi = f.read().upper().split()\n",
    "    \n",
    "word_list = [word for word in doi if len(word) > 5]\n",
    "\n",
    "word_list\n",
    "\n",
    "c = Counter(word_list)\n",
    "\n",
    "c.most_common(10)\n",
    "\n"
   ]
  },
  {
   "cell_type": "code",
   "execution_count": 32,
   "metadata": {},
   "outputs": [
    {
     "data": {
      "text/plain": [
       "[0, 1, 4, 9, 16, 25, 36, 49, 64, 81]"
      ]
     },
     "execution_count": 32,
     "metadata": {},
     "output_type": "execute_result"
    }
   ],
   "source": [
    "def is_perfect_square(n):\n",
    "    return n**.5 == int(n**.5)\n",
    "\n",
    "perfect_squares = list(filter(is_perfect_square, range(100)))\n",
    "perfect_squares"
   ]
  }
 ],
 "metadata": {
  "kernelspec": {
   "display_name": "Python 3",
   "language": "python",
   "name": "python3"
  },
  "language_info": {
   "codemirror_mode": {
    "name": "ipython",
    "version": 3
   },
   "file_extension": ".py",
   "mimetype": "text/x-python",
   "name": "python",
   "nbconvert_exporter": "python",
   "pygments_lexer": "ipython3",
   "version": "3.6.5"
  }
 },
 "nbformat": 4,
 "nbformat_minor": 4
}

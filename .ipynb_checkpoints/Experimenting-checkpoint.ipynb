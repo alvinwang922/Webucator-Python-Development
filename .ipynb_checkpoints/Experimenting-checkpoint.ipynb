{
 "cells": [
  {
   "cell_type": "code",
   "execution_count": 1,
   "metadata": {},
   "outputs": [],
   "source": [
    "from datetime import date\n",
    "ww2_leaders = []\n",
    "ww2_leaders.append({'fname':'Winston', 'lname':'Churchill', 'dob':date(1889,4,20)})\n",
    "ww2_leaders.append({'fname':'Charles', 'lname':'de Gaulle', 'dob':date(1883,7,29)})\n",
    "ww2_leaders.append({'fname':'Adolph', 'lname':'Hitler', 'dob':date(1890,11,22)})\n",
    "ww2_leaders.append({'fname':'Benito', 'lname':'Mussolini', 'dob':date(1882,1,30)})\n",
    "ww2_leaders.append({'fname':'Franklin', 'lname':'Roosevelt', 'dob':date(1884,12,30)})\n",
    "ww2_leaders.append({'fname':'Joseph', 'lname':'Stalin', 'dob':date(1878,12,18)})\n",
    "ww2_leaders.append({'fname':'Hideki', 'lname':'Tojo', 'dob':date(1874,11,30)})\n"
   ]
  },
  {
   "cell_type": "code",
   "execution_count": 5,
   "metadata": {},
   "outputs": [
    {
     "name": "stdout",
     "output_type": "stream",
     "text": [
      "[{'fname': 'Winston', 'lname': 'Churchill', 'dob': datetime.date(1889, 4, 20)}, {'fname': 'Adolph', 'lname': 'Hitler', 'dob': datetime.date(1890, 11, 22)}, {'fname': 'Benito', 'lname': 'Mussolini', 'dob': datetime.date(1882, 1, 30)}, {'fname': 'Franklin', 'lname': 'Roosevelt', 'dob': datetime.date(1884, 12, 30)}, {'fname': 'Joseph', 'lname': 'Stalin', 'dob': datetime.date(1878, 12, 18)}, {'fname': 'Hideki', 'lname': 'Tojo', 'dob': datetime.date(1874, 11, 30)}, {'fname': 'Charles', 'lname': 'de Gaulle', 'dob': datetime.date(1883, 7, 29)}]\n"
     ]
    }
   ],
   "source": [
    "from operator import itemgetter\n",
    "ww2_leaders.sort( key=itemgetter('lname','fname') )\n",
    "print(ww2_leaders)\n",
    "\n",
    "\n"
   ]
  },
  {
   "cell_type": "code",
   "execution_count": 9,
   "metadata": {},
   "outputs": [
    {
     "name": "stdout",
     "output_type": "stream",
     "text": [
      "5.0\n"
     ]
    }
   ],
   "source": [
    "import math\n",
    "def distance_from_origin(a, b):\n",
    "    return math.sqrt(a**2 + b**2)\n",
    "point = (3, 4)\n",
    "c = distance_from_origin(*point)\n",
    "print(c)"
   ]
  },
  {
   "cell_type": "code",
   "execution_count": 12,
   "metadata": {},
   "outputs": [],
   "source": [
    "dice_rolls = [(a,b)\n",
    "            for a in range(1,7)\n",
    "            for b in range(1,7)]\n",
    "from collections import defaultdict\n",
    "roll_counts = defaultdict(int)\n",
    "for roll in dice_rolls:\n",
    "    roll_counts[sum(roll)] += 1"
   ]
  },
  {
   "cell_type": "code",
   "execution_count": 15,
   "metadata": {},
   "outputs": [
    {
     "data": {
      "text/plain": [
       "25"
      ]
     },
     "execution_count": 15,
     "metadata": {},
     "output_type": "execute_result"
    }
   ],
   "source": [
    "f = lambda n: n**2\n",
    "f(5)"
   ]
  },
  {
   "cell_type": "code",
   "execution_count": 14,
   "metadata": {
    "scrolled": true
   },
   "outputs": [
    {
     "data": {
      "text/plain": [
       "4"
      ]
     },
     "execution_count": 14,
     "metadata": {},
     "output_type": "execute_result"
    }
   ],
   "source": [
    "f(2)"
   ]
  },
  {
   "cell_type": "code",
   "execution_count": 16,
   "metadata": {
    "scrolled": true
   },
   "outputs": [
    {
     "ename": "NameError",
     "evalue": "name 'namedtuple' is not defined",
     "output_type": "error",
     "traceback": [
      "\u001b[0;31m---------------------------------------------------------------------------\u001b[0m",
      "\u001b[0;31mNameError\u001b[0m                                 Traceback (most recent call last)",
      "\u001b[0;32m<ipython-input-16-32c39e50866b>\u001b[0m in \u001b[0;36m<module>\u001b[0;34m\u001b[0m\n\u001b[0;32m----> 1\u001b[0;31m \u001b[0mPoint\u001b[0m \u001b[0;34m=\u001b[0m \u001b[0mnamedtuple\u001b[0m\u001b[0;34m(\u001b[0m\u001b[0;34m'point'\u001b[0m\u001b[0;34m,\u001b[0m\u001b[0;34m'x, y'\u001b[0m\u001b[0;34m)\u001b[0m\u001b[0;34m\u001b[0m\u001b[0m\n\u001b[0m\u001b[1;32m      2\u001b[0m \u001b[0mtarget_pos\u001b[0m\u001b[0;34m[\u001b[0m\u001b[0;36m0\u001b[0m\u001b[0;34m]\u001b[0m \u001b[0;34m==\u001b[0m \u001b[0mtarget_pos\u001b[0m\u001b[0;34m.\u001b[0m\u001b[0mx\u001b[0m\u001b[0;34m\u001b[0m\u001b[0m\n",
      "\u001b[0;31mNameError\u001b[0m: name 'namedtuple' is not defined"
     ]
    }
   ],
   "source": []
  }
 ],
 "metadata": {
  "kernelspec": {
   "display_name": "Python 3",
   "language": "python",
   "name": "python3"
  },
  "language_info": {
   "codemirror_mode": {
    "name": "ipython",
    "version": 3
   },
   "file_extension": ".py",
   "mimetype": "text/x-python",
   "name": "python",
   "nbconvert_exporter": "python",
   "pygments_lexer": "ipython3",
   "version": "3.6.5"
  }
 },
 "nbformat": 4,
 "nbformat_minor": 4
}
